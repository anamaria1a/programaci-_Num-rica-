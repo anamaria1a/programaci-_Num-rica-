{
 "cells": [
  {
   "cell_type": "markdown",
   "id": "0487e647",
   "metadata": {},
   "source": [
    "# S03 T04\n"
   ]
  },
  {
   "cell_type": "markdown",
   "id": "df5901f2",
   "metadata": {},
   "source": [
    "## Level 1"
   ]
  },
  {
   "cell_type": "markdown",
   "id": "0407c4ec",
   "metadata": {},
   "source": [
    "### - Exercise 1\n",
    "\n",
    "Crea una funció que donat un Array d’una dimensió, et faci un resum estadístic bàsic de les dades. Si detecta que l’array té més d’una dimensió, ha de mostrar un missatge d’error.\n"
   ]
  },
  {
   "cell_type": "code",
   "execution_count": 1,
   "id": "5ca1a67b",
   "metadata": {},
   "outputs": [
    {
     "name": "stdout",
     "output_type": "stream",
     "text": [
      "Enter the size of list : 3\n",
      "\n",
      "\n",
      "Enter the list numbers separated by space 1.1 2 3.3\n",
      "\n",
      "\n",
      "User List:  [1.1 2.  3.3]\n",
      "\n",
      "\n",
      "DescribeResult(nobs=3, minmax=(1.1, 3.3), mean=2.1333333333333333, variance=1.223333333333333, skewness=0.21824567180387883, kurtosis=-1.4999999999999998)\n"
     ]
    }
   ],
   "source": [
    "import numpy as np\n",
    "from scipy import stats\n",
    "\n",
    "\n",
    "n = int(input(\"Enter the size of list : \"))\n",
    "print(\"\\n\")\n",
    "arr = list(map(float, input(\"Enter the list numbers separated by space \").strip().split()))\n",
    "matrix = np.array(arr)\n",
    "\n",
    "if matrix.ndim == 1:\n",
    "    print(\"\\n\")\n",
    "    print(\"User List: \", matrix)\n",
    "    print(\"\\n\")\n",
    "    print(stats.describe(matrix))\n",
    "else:\n",
    "    print (\"Error\")"
   ]
  },
  {
   "cell_type": "markdown",
   "id": "1c7910eb",
   "metadata": {},
   "source": [
    "### -Exercise 2\n",
    "\n",
    "Crea una funció que et generi un quadrat NxN de nombres aleatoris entre el 0 i el 100."
   ]
  },
  {
   "cell_type": "code",
   "execution_count": 6,
   "id": "e247dced",
   "metadata": {},
   "outputs": [
    {
     "name": "stdout",
     "output_type": "stream",
     "text": [
      "[[83 99  3]\n",
      " [26 92 45]\n",
      " [26 78 29]]\n"
     ]
    }
   ],
   "source": [
    "import numpy as np\n",
    "from numpy import random\n",
    "\n",
    "x = random.randint(10)\n",
    "m = random.randint(100, size=(x, x))\n",
    "\n",
    "print(m)"
   ]
  },
  {
   "cell_type": "markdown",
   "id": "d9950a10",
   "metadata": {},
   "source": [
    "### - Exercise 3\n",
    "\n",
    "Crea una funció que donada una taula de dues dimensions, et calculi els totals per fila i els totals per columna."
   ]
  },
  {
   "cell_type": "code",
   "execution_count": 20,
   "id": "9994a49e",
   "metadata": {},
   "outputs": [
    {
     "name": "stdout",
     "output_type": "stream",
     "text": [
      "[[21 49 53]\n",
      " [12 59 33]\n",
      " [15 74 99]]\n",
      "(array([[ 48, 182, 185]]), array([[123, 104, 188]]))\n"
     ]
    }
   ],
   "source": [
    "def myadd1(mat1):\n",
    "    newarr1 = np.sum([mat1], axis=1)        \n",
    "    newarr2 = np.sum([mat1], axis=2)\n",
    "    return newarr1, newarr2\n",
    "print (m)\n",
    "print(myadd1(m))\n",
    "    \n",
    "\n"
   ]
  },
  {
   "cell_type": "markdown",
   "id": "4739f2ca",
   "metadata": {},
   "source": [
    "### - Exercise 4\n",
    "\n",
    "Implementa manualment una funció que calculi el coeficient de correlació. Informa’t-en sobre els seus usos i interpretació."
   ]
  },
  {
   "cell_type": "code",
   "execution_count": 23,
   "id": "dbb9275b",
   "metadata": {},
   "outputs": [
    {
     "name": "stdout",
     "output_type": "stream",
     "text": [
      "[[21 49 53]\n",
      " [12 59 33]\n",
      " [15 74 99]]\n",
      "[[1.         0.76490475 0.98401007 1.         0.76490475 0.98401007]\n",
      " [0.76490475 1.         0.63794378 0.76490475 1.         0.63794378]\n",
      " [0.98401007 0.63794378 1.         0.98401007 0.63794378 1.        ]\n",
      " [1.         0.76490475 0.98401007 1.         0.76490475 0.98401007]\n",
      " [0.76490475 1.         0.63794378 0.76490475 1.         0.63794378]\n",
      " [0.98401007 0.63794378 1.         0.98401007 0.63794378 1.        ]]\n"
     ]
    }
   ],
   "source": [
    "import numpy as np\n",
    "import matplotlib as mpl\n",
    "import matplotlib.pyplot as plt\n",
    "\n",
    "r = np.corrcoef(m, m)\n",
    "print (m)\n",
    "print(r)"
   ]
  },
  {
   "cell_type": "code",
   "execution_count": 29,
   "id": "cf0287d0",
   "metadata": {},
   "outputs": [
    {
     "name": "stdout",
     "output_type": "stream",
     "text": [
      "Matriz de correlaciones:\n",
      "[[ 1.  -0.9]\n",
      " [-0.9  1. ]]\n",
      " \n",
      "Coeficiente de correlación:\n",
      "-0.8999999999999998\n"
     ]
    }
   ],
   "source": [
    "import matplotlib.pyplot as plt\n",
    "import seaborn as sns\n",
    "\n",
    "\n",
    "x = np.array([1, 2, 3, 4, 5])\n",
    "y = np.array([6, 4, 5, 3, 2])\n",
    "re = np.corrcoef(x, y)\n",
    "re1 = re[0,1]\n",
    "\n",
    "print (\"Matriz de correlaciones:\")\n",
    "print(re)\n",
    "print(\" \")\n",
    "print(\"Coeficiente de correlación:\")\n",
    "print(re1)\n"
   ]
  },
  {
   "cell_type": "code",
   "execution_count": 21,
   "id": "4dc5936b",
   "metadata": {},
   "outputs": [
    {
     "name": "stdout",
     "output_type": "stream",
     "text": [
      "Matriz de correlaciones:\n",
      "[[ 1.  -0.9]\n",
      " [-0.9  1. ]]\n",
      " \n",
      "Coeficiente de correlación:\n",
      "-0.8999999999999998\n"
     ]
    }
   ],
   "source": [
    "import numpy as np\n",
    "import matplotlib.pyplot as plt\n",
    "import seaborn as sns\n",
    "\n",
    "\n",
    "x = np.array([1, 2, 3, 4, 5])\n",
    "y = np.array([6, 4, 5, 3, 2])\n",
    "\n",
    "r = (np.cov(x,y))/(np.std(x,ddof=1)*np.std(y,ddof=1))\n",
    "r1 = (np.cov(x,y)[0,1])/(np.std(x,ddof=1)*np.std(y,ddof=1))\n",
    "#El elemento [0, 1] es el valor relevante para el cálculo\n",
    "#Es necesario usar ddof=1 en np.std porque retorna a estimativa imparcial\n",
    "\n",
    "print (\"Matriz de correlaciones:\")\n",
    "print (r)\n",
    "print(\" \")\n",
    "print(\"Coeficiente de correlación:\")\n",
    "print (r1)"
   ]
  },
  {
   "cell_type": "code",
   "execution_count": null,
   "id": "fb5f5570",
   "metadata": {},
   "outputs": [],
   "source": []
  }
 ],
 "metadata": {
  "kernelspec": {
   "display_name": "Python 3",
   "language": "python",
   "name": "python3"
  },
  "language_info": {
   "codemirror_mode": {
    "name": "ipython",
    "version": 3
   },
   "file_extension": ".py",
   "mimetype": "text/x-python",
   "name": "python",
   "nbconvert_exporter": "python",
   "pygments_lexer": "ipython3",
   "version": "3.8.8"
  }
 },
 "nbformat": 4,
 "nbformat_minor": 5
}
